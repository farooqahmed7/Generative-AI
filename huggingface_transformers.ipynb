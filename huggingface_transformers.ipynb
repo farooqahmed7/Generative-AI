{
 "cells": [
  {
   "cell_type": "markdown",
   "id": "4e66c644",
   "metadata": {},
   "source": [
    "https://huggingface.co/docs/transformers/en/index\n",
    "\n",
    "https://github.com/huggingface/transformers/tree/main/src/transformers/models"
   ]
  },
  {
   "cell_type": "code",
   "execution_count": 1,
   "id": "6ddeb9df",
   "metadata": {},
   "outputs": [],
   "source": [
    "#pip install transformer\n",
    "#pip install dataset\n",
    "#pip install tokenizer\n",
    "#pip install seqeval\n",
    "\n",
    "# or to download the packages in a single go\n",
    "#!pip install transformers datasets tokenizers seqeval -q"
   ]
  },
  {
   "cell_type": "code",
   "execution_count": 1,
   "id": "fcba639c",
   "metadata": {},
   "outputs": [
    {
     "ename": "ModuleNotFoundError",
     "evalue": "No module named 'dataset'",
     "output_type": "error",
     "traceback": [
      "\u001b[1;31m---------------------------------------------------------------------------\u001b[0m",
      "\u001b[1;31mModuleNotFoundError\u001b[0m                       Traceback (most recent call last)",
      "\u001b[1;32m~\\AppData\\Local\\Temp/ipykernel_14324/3021261437.py\u001b[0m in \u001b[0;36m<module>\u001b[1;34m\u001b[0m\n\u001b[1;32m----> 1\u001b[1;33m \u001b[1;32mimport\u001b[0m \u001b[0mdataset\u001b[0m\u001b[1;33m\u001b[0m\u001b[1;33m\u001b[0m\u001b[0m\n\u001b[0m\u001b[0;32m      2\u001b[0m \u001b[1;32mimport\u001b[0m \u001b[0mnumpy\u001b[0m\u001b[1;33m\u001b[0m\u001b[1;33m\u001b[0m\u001b[0m\n\u001b[0;32m      3\u001b[0m \u001b[1;32mfrom\u001b[0m \u001b[0mtransformer\u001b[0m \u001b[1;32mimport\u001b[0m \u001b[0mBertTokenizerFast\u001b[0m\u001b[1;33m\u001b[0m\u001b[1;33m\u001b[0m\u001b[0m\n",
      "\u001b[1;31mModuleNotFoundError\u001b[0m: No module named 'dataset'"
     ]
    }
   ],
   "source": [
    "import dataset\n",
    "import numpy\n",
    "from transformers import BertTokenizerFast\n"
   ]
  },
  {
   "cell_type": "code",
   "execution_count": 2,
   "id": "504f0100",
   "metadata": {},
   "outputs": [],
   "source": [
    "def tokenize_and_align_labels(examples, label_all_tokens =True):\n",
    "    # tokenize ids.\n",
    "    tokenized_inputs = tokenizer(examples['tokens'], truncation = True, is_split_into_words = True)\n",
    "    labels = []\n",
    "    for i, label in enumerate(examples['ner_tags']):\n",
    "        word_ids = tokenized_inputs.word_ids(batch_index=1)\n",
    "        # word_ids returns a list mapping the tokens to their actual word in the initial sentence. It returns a list indicating the word corresponding to each token\n",
    "        previous_word_idx = None # CLS and SEP are set to None\n",
    "        label_ids = []\n",
    "        # Special tokens such as '' and '<s\\>' are originally mapped to None\n",
    "        # We need to set the label to -100 so they are automatically ignored in the loss function.\n",
    "        for word_idx in word_ids:\n",
    "            if word_idx is None:\n",
    "                # Set -100 as the label for these special tokens\n",
    "                label_ids.apppend(-100) # It ignores the CLS and SEP\n",
    "            # For the other tokens in a word, we set the label to either the current label or -100, depending on the label_all_tokens flag\n",
    "            elif word_idx!=previous_word_idx:\n",
    "                # If current word_idx is != previous, then its the most regular case and not the corresponding token\n",
    "                label_ids.append(label[word_idx])\n",
    "            else:\n",
    "                # To take care of the sub-words which have the same word_idx; set -100 as well for them, but only if label_all_tokens ==False\n",
    "                label_ids.append(label[word_idx] if label_all_tokens else -100)\n",
    "                # Mask the subword representations after the first sub-word.\n",
    "            previous_word_idx = word_idx\n",
    "        labels.append(label_ids)\n",
    "    tokenized_inputs['labels'] = labels\n",
    "    return tokenized_inputs"
   ]
  },
  {
   "cell_type": "code",
   "execution_count": null,
   "id": "5949eb0a",
   "metadata": {},
   "outputs": [],
   "source": [
    "def tokenize_and_align_labels(examples, label_all_tokens =True):\n",
    "    tokenized_inputs = tokenizer(examples['tokens'], truncation = True, is_split_into_words = True)\n",
    "    labels = []\n",
    "    for i, label in enumerate(examples['ner_tags']):\n",
    "        word_ids = tokenized_inputs.word_ids(batch_index=i)\n",
    "        previous_word_idx = None # CLS and SEP are set to None\n",
    "        label_ids = []\n",
    "        for word_idx in word_ids:\n",
    "            if word_idx is None:\n",
    "                label_ids.apppend(-100) # It ignores the CLS and SEP\n",
    "            elif word_idx!=previous_word_idx:\n",
    "                label_ids.append(label[word_idx])\n",
    "            else:\n",
    "                label_ids.append(label[word_idx] if label_all_tokens else -100)\n",
    "\n",
    "            previous_word_idx = word_idx\n",
    "        labels.append(label_ids)\n",
    "    tokenized_inputs['labels'] = labels\n",
    "    return tokenized_inputs"
   ]
  },
  {
   "cell_type": "code",
   "execution_count": null,
   "id": "f29707ec",
   "metadata": {},
   "outputs": [],
   "source": [
    "def compute_metrics(eval_preds):\n",
    "    pred_logits, labels = eval_preds\n",
    "    pred_logits  = np.argmax(pred_logits, axis=2)\n",
    "    # The logits and the porbabilities must be in same order, so we dont need to apply the softmax\n",
    "    # We remove all the values where the label is -100\n",
    "    predictions = [\n",
    "      [label_list[eval_preds] for (eval_preds, l) in zip(prediction, label) if l!=-100]\n",
    "      for prediction, label in zip(pred_logits, labels)]\n",
    "    true_labels = [\n",
    "      [label_list[l] for (eval_preds, l) in zip(prediction, label) if l!= -100]\n",
    "      for prediction, label in zip(pred_logits, labels)]\n",
    "    results = metric.compute(predictions = predictions, references = true_labels)\n",
    "    return {\n",
    "      \"precision\": results['overall_precision'],\n",
    "      \"recall\": results['overall_recall'],\n",
    "      \"f1\": results['overall_f1'],\n",
    "      \"accuracy\": results['accuracy'],\n",
    "  }"
   ]
  }
 ],
 "metadata": {
  "kernelspec": {
   "display_name": "Python 3 (ipykernel)",
   "language": "python",
   "name": "python3"
  },
  "language_info": {
   "codemirror_mode": {
    "name": "ipython",
    "version": 3
   },
   "file_extension": ".py",
   "mimetype": "text/x-python",
   "name": "python",
   "nbconvert_exporter": "python",
   "pygments_lexer": "ipython3",
   "version": "3.9.7"
  }
 },
 "nbformat": 4,
 "nbformat_minor": 5
}
